{
 "cells": [
  {
   "cell_type": "code",
   "execution_count": 15,
   "id": "exceptional-promotion",
   "metadata": {},
   "outputs": [],
   "source": [
    "import numpy as np\n",
    "import pandas as pd"
   ]
  },
  {
   "cell_type": "code",
   "execution_count": 16,
   "id": "beautiful-migration",
   "metadata": {},
   "outputs": [
    {
     "name": "stdout",
     "output_type": "stream",
     "text": [
      "Estimated Pi:  3.141585\n"
     ]
    }
   ],
   "source": [
    "num_points = 20000000\n",
    "\n",
    "def estimate_pi(num_points):\n",
    "    points = np.random.rand(num_points, 2)\n",
    "    inside_circle = np.sum(np.linalg.norm(points, axis=1)<=1)\n",
    "    pi_estimate = 4 * (inside_circle / num_points)\n",
    "    return pi_estimate\n",
    "\n",
    "estimated_pi = estimate_pi(num_points)\n",
    "print(\"Estimated Pi: \",estimated_pi)"
   ]
  },
  {
   "cell_type": "code",
   "execution_count": 17,
   "id": "black-painting",
   "metadata": {},
   "outputs": [],
   "source": [
    "num_samples = [10, 100, 1000, 10000, 100000, 1000000, 10000]\n",
    "results = []"
   ]
  },
  {
   "cell_type": "code",
   "execution_count": 19,
   "id": "expanded-participant",
   "metadata": {},
   "outputs": [],
   "source": [
    "for num_points in num_samples:\n",
    "    estimated_pi = estimate_pi(num_points)\n",
    "    results.append({\"Number of samples\": num_points, \"Estimated Pi\": estimated_pi})"
   ]
  },
  {
   "cell_type": "code",
   "execution_count": 22,
   "id": "indonesian-pasta",
   "metadata": {},
   "outputs": [
    {
     "name": "stdout",
     "output_type": "stream",
     "text": [
      "   Number of samples  Estimated Pi\n",
      "0                 10      4.000000\n",
      "1                100      3.120000\n",
      "2               1000      3.116000\n",
      "3              10000      3.120000\n",
      "4             100000      3.141880\n",
      "5            1000000      3.142064\n"
     ]
    }
   ],
   "source": [
    "df = pd.DataFrame(results)\n",
    "print(df)"
   ]
  },
  {
   "cell_type": "code",
   "execution_count": null,
   "id": "thrown-fraction",
   "metadata": {},
   "outputs": [],
   "source": []
  }
 ],
 "metadata": {
  "kernelspec": {
   "display_name": "Python 3",
   "language": "python",
   "name": "python3"
  },
  "language_info": {
   "codemirror_mode": {
    "name": "ipython",
    "version": 3
   },
   "file_extension": ".py",
   "mimetype": "text/x-python",
   "name": "python",
   "nbconvert_exporter": "python",
   "pygments_lexer": "ipython3",
   "version": "3.8.5"
  }
 },
 "nbformat": 4,
 "nbformat_minor": 5
}
