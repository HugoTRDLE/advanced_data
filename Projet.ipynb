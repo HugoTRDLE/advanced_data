{
 "cells": [
  {
   "cell_type": "code",
   "execution_count": 29,
   "id": "51da16d8",
   "metadata": {},
   "outputs": [],
   "source": [
    "# Importing packages\n",
    "import pandas as pd\n",
    "import seaborn as sns\n",
    "from summarytools import dfSummary\n"
   ]
  },
  {
   "cell_type": "code",
   "execution_count": 39,
   "id": "8ad971c4",
   "metadata": {},
   "outputs": [],
   "source": [
    "# Importing data\n",
    "battle_death_df = pd.read_csv(\"Data/battle_deaths.csv\")\n",
    "armed_conflict_df = pd.read_csv(\"Data/armed_conflict_19462022.csv\")\n",
    "gdp_df = pd.read_csv(\"Data/gdp_world.csv\", skiprows=4)\n",
    "mil_spending_df = pd.read_csv(\"Data/mil_spending.csv\", skiprows=4)\n",
    "education_df = pd.read_csv(\"Data/education_level.csv\", skiprows=4)\n",
    "\n"
   ]
  },
  {
   "cell_type": "code",
   "execution_count": 38,
   "id": "41d5dd7a",
   "metadata": {},
   "outputs": [
    {
     "name": "stdout",
     "output_type": "stream",
     "text": [
      "                    Country Name Country Code  \\\n",
      "0                          Aruba          ABW   \n",
      "1    Africa Eastern and Southern          AFE   \n",
      "2                    Afghanistan          AFG   \n",
      "3     Africa Western and Central          AFW   \n",
      "4                         Angola          AGO   \n",
      "..                           ...          ...   \n",
      "261                       Kosovo          XKX   \n",
      "262                  Yemen, Rep.          YEM   \n",
      "263                 South Africa          ZAF   \n",
      "264                       Zambia          ZMB   \n",
      "265                     Zimbabwe          ZWE   \n",
      "\n",
      "                                        Indicator Name     Indicator Code  \\\n",
      "0    Educational attainment, at least completed low...  SE.SEC.CUAT.LO.ZS   \n",
      "1    Educational attainment, at least completed low...  SE.SEC.CUAT.LO.ZS   \n",
      "2    Educational attainment, at least completed low...  SE.SEC.CUAT.LO.ZS   \n",
      "3    Educational attainment, at least completed low...  SE.SEC.CUAT.LO.ZS   \n",
      "4    Educational attainment, at least completed low...  SE.SEC.CUAT.LO.ZS   \n",
      "..                                                 ...                ...   \n",
      "261  Educational attainment, at least completed low...  SE.SEC.CUAT.LO.ZS   \n",
      "262  Educational attainment, at least completed low...  SE.SEC.CUAT.LO.ZS   \n",
      "263  Educational attainment, at least completed low...  SE.SEC.CUAT.LO.ZS   \n",
      "264  Educational attainment, at least completed low...  SE.SEC.CUAT.LO.ZS   \n",
      "265  Educational attainment, at least completed low...  SE.SEC.CUAT.LO.ZS   \n",
      "\n",
      "     1960  1961  1962  1963  1964  1965  ...       2015       2016       2017  \\\n",
      "0     NaN   NaN   NaN   NaN   NaN   NaN  ...        NaN        NaN        NaN   \n",
      "1     NaN   NaN   NaN   NaN   NaN   NaN  ...        NaN        NaN        NaN   \n",
      "2     NaN   NaN   NaN   NaN   NaN   NaN  ...  13.125810        NaN        NaN   \n",
      "3     NaN   NaN   NaN   NaN   NaN   NaN  ...        NaN        NaN        NaN   \n",
      "4     NaN   NaN   NaN   NaN   NaN   NaN  ...  27.969761        NaN        NaN   \n",
      "..    ...   ...   ...   ...   ...   ...  ...        ...        ...        ...   \n",
      "261   NaN   NaN   NaN   NaN   NaN   NaN  ...        NaN        NaN        NaN   \n",
      "262   NaN   NaN   NaN   NaN   NaN   NaN  ...        NaN        NaN        NaN   \n",
      "263   NaN   NaN   NaN   NaN   NaN   NaN  ...  77.180908  66.386459  72.327881   \n",
      "264   NaN   NaN   NaN   NaN   NaN   NaN  ...        NaN        NaN        NaN   \n",
      "265   NaN   NaN   NaN   NaN   NaN   NaN  ...  53.486809        NaN  64.935226   \n",
      "\n",
      "          2018      2019       2020       2021      2022  2023  Unnamed: 68  \n",
      "0          NaN       NaN        NaN        NaN       NaN   NaN          NaN  \n",
      "1          NaN       NaN        NaN        NaN       NaN   NaN          NaN  \n",
      "2          NaN       NaN        NaN  11.631920  15.34292   NaN          NaN  \n",
      "3          NaN       NaN        NaN        NaN       NaN   NaN          NaN  \n",
      "4          NaN       NaN        NaN        NaN       NaN   NaN          NaN  \n",
      "..         ...       ...        ...        ...       ...   ...          ...  \n",
      "261        NaN       NaN        NaN        NaN       NaN   NaN          NaN  \n",
      "262        NaN       NaN        NaN        NaN       NaN   NaN          NaN  \n",
      "263        NaN  81.80468  79.255142  83.926857       NaN   NaN          NaN  \n",
      "264  37.650219       NaN        NaN        NaN       NaN   NaN          NaN  \n",
      "265        NaN       NaN        NaN        NaN       NaN   NaN          NaN  \n",
      "\n",
      "[266 rows x 69 columns]\n"
     ]
    }
   ],
   "source": [
    "# Cleaning of education_df\n",
    "print(education_df)"
   ]
  },
  {
   "cell_type": "code",
   "execution_count": null,
   "id": "2e6845e6",
   "metadata": {},
   "outputs": [],
   "source": []
  }
 ],
 "metadata": {
  "kernelspec": {
   "display_name": "Python 3",
   "language": "python",
   "name": "python3"
  },
  "language_info": {
   "codemirror_mode": {
    "name": "ipython",
    "version": 3
   },
   "file_extension": ".py",
   "mimetype": "text/x-python",
   "name": "python",
   "nbconvert_exporter": "python",
   "pygments_lexer": "ipython3",
   "version": "3.12.2"
  }
 },
 "nbformat": 4,
 "nbformat_minor": 5
}
