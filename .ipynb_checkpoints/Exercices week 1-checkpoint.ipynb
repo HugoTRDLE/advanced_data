{
 "cells": [
  {
   "cell_type": "code",
   "execution_count": 6,
   "id": "stretch-reducing",
   "metadata": {},
   "outputs": [],
   "source": [
    "import numpy as np\n",
    "import pandas as pd\n",
    "import matplotlib.pyplot as plt"
   ]
  },
  {
   "cell_type": "code",
   "execution_count": 26,
   "id": "portuguese-dressing",
   "metadata": {},
   "outputs": [
    {
     "name": "stdout",
     "output_type": "stream",
     "text": [
      "Estimated Pi:  3.141216\n",
      "   Number of samples  Estimated Pi\n",
      "0                 10      3.200000\n",
      "1                100      3.120000\n",
      "2               1000      3.168000\n",
      "3              10000      3.180400\n",
      "4             100000      3.152200\n",
      "5            1000000      3.143252\n",
      "6           10000000      3.140346\n"
     ]
    }
   ],
   "source": [
    "# Exercice 1\n",
    "\n",
    "def estimate_pi(num_points):\n",
    "    points = np.random.rand(num_points, 2)\n",
    "    inside_circle = np.sum(np.linalg.norm(points, axis=1)<=1)\n",
    "    pi_estimate = 4 * (inside_circle / num_points)\n",
    "    return pi_estimate\n",
    "\n",
    "estimated_pi = estimate_pi(num_points)\n",
    "print(\"Estimated Pi: \",estimated_pi)\n",
    "\n",
    "num_samples = [10, 100, 1000, 10000, 100000, 1000000, 10000000]\n",
    "results = []\n",
    "\n",
    "for num_points in num_samples:\n",
    "    estimated_pi = estimate_pi(num_points)\n",
    "    results.append({\"Number of samples\": num_points, \"Estimated Pi\": estimated_pi})\n",
    "    \n",
    "df = pd.DataFrame(results)\n",
    "print(df)"
   ]
  },
  {
   "cell_type": "code",
   "execution_count": 29,
   "id": "faced-light",
   "metadata": {},
   "outputs": [
    {
     "name": "stdout",
     "output_type": "stream",
     "text": [
      "Tail\n",
      "Head\n",
      "Head\n",
      "Tail\n",
      "Head\n",
      "Head\n",
      "Tail\n",
      "Tail\n",
      "Tail\n",
      "Tail\n",
      "Number of Heads:  4\n"
     ]
    }
   ],
   "source": [
    "# Exercice 2\n",
    "\n",
    "N = 10\n",
    "\n",
    "def flip_coin(N):\n",
    "    num_heads = 0\n",
    "    flips = np.random.randint(2, size = N)\n",
    "    for flip_result in flips:\n",
    "        if flip_result == 1:\n",
    "            print(\"Head\")\n",
    "            num_heads += 1\n",
    "        else:\n",
    "            print(\"Tail\")\n",
    "    return num_heads\n",
    "\n",
    "num_heads = flip_coin(N)\n",
    "print(\"Number of Heads: \", num_heads)"
   ]
  },
  {
   "cell_type": "code",
   "execution_count": 16,
   "id": "covered-frequency",
   "metadata": {},
   "outputs": [
    {
     "name": "stdout",
     "output_type": "stream",
     "text": [
      "Probs of getting 6 on one die throw:  0.16731\n",
      "Probs of getting four 6 in a row:  0.0008\n"
     ]
    }
   ],
   "source": [
    "# Exercice 3\n",
    "\n",
    "# throw a die once: 1/6 chance of 6\n",
    "# throw a die four times in a row: 1 / 6^4 chance of all 6\n",
    "# 3 times 6 in a row. probability of getting another 6 = 1/6\n",
    "# 100 throw 6, 101st throw is 6 is 1/6\n",
    "\n",
    "# 1/6 ~= 0.166\n",
    "# 1/6^4 = 0,000771604938272\n",
    "\n",
    "num_trials  = 100000\n",
    "def case_1(num_trials):\n",
    "    results = np.random.randint(1,7, size = num_trials) # simulate throwing a die num_trials number of times\n",
    "    probability_6 = np.sum(results == 6) / num_trials\n",
    "    return probability_6\n",
    "\n",
    "probability_6 = case_1(num_trials)\n",
    "print(\"Probs of getting 6 on one die throw: \", probability_6)\n",
    "\n",
    "def case_2(num_trials):\n",
    "    results_4 = np.random.randint(1,7, size = (num_trials, 4))\n",
    "    probability_6666 = np.sum(np.all(results_4 == 6, axis = 1)) / num_trials\n",
    "    return probability_6666\n",
    "\n",
    "probability_6666 = case_2(num_trials)\n",
    "print(\"Probs of getting four 6 in a row: \", probability_6666)"
   ]
  },
  {
   "cell_type": "code",
   "execution_count": 5,
   "id": "martial-waste",
   "metadata": {},
   "outputs": [
    {
     "name": "stdout",
     "output_type": "stream",
     "text": [
      "Sum 2: Frequency = 0.0286\n",
      "Sum 3: Frequency = 0.0554\n",
      "Sum 4: Frequency = 0.0827\n",
      "Sum 5: Frequency = 0.1108\n",
      "Sum 6: Frequency = 0.1401\n",
      "Sum 7: Frequency = 0.1637\n",
      "Sum 8: Frequency = 0.1410\n",
      "Sum 9: Frequency = 0.1120\n",
      "Sum 10: Frequency = 0.0825\n",
      "Sum 11: Frequency = 0.0553\n",
      "Sum 12: Frequency = 0.0279\n"
     ]
    }
   ],
   "source": [
    "# Exercice 4\n",
    "\n",
    "def simulate_dice_throw(num_trials):\n",
    "    # Simulate throwing two dice num_trials times\n",
    "    dice1 = np.random.randint(1, 7, size=num_trials)\n",
    "    dice2 = np.random.randint(1, 7, size=num_trials)\n",
    "    total_sums = dice1 + dice2\n",
    "\n",
    "    # Calculate frequencies\n",
    "    unique_sums, counts = np.unique(total_sums, return_counts=True)\n",
    "    frequencies = dict(zip(unique_sums, counts / num_trials))\n",
    "    return frequencies\n",
    "\n",
    "# Number of trials for simulation\n",
    "num_trials = 100000\n",
    "\n",
    "# Simulate dice throw and calculate frequencies\n",
    "frequencies = simulate_dice_throw(num_trials)\n",
    "\n",
    "# Print frequencies\n",
    "for sum_, frequency in frequencies.items():\n",
    "    print(f\"Sum {sum_}: Frequency = {frequency:.4f}\")\n"
   ]
  },
  {
   "cell_type": "code",
   "execution_count": null,
   "id": "material-paragraph",
   "metadata": {},
   "outputs": [],
   "source": [
    "# Exercise 5\n",
    "\n"
   ]
  }
 ],
 "metadata": {
  "kernelspec": {
   "display_name": "Python 3",
   "language": "python",
   "name": "python3"
  },
  "language_info": {
   "codemirror_mode": {
    "name": "ipython",
    "version": 3
   },
   "file_extension": ".py",
   "mimetype": "text/x-python",
   "name": "python",
   "nbconvert_exporter": "python",
   "pygments_lexer": "ipython3",
   "version": "3.8.5"
  }
 },
 "nbformat": 4,
 "nbformat_minor": 5
}
